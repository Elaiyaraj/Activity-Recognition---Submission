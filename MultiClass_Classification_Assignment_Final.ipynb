{
  "cells": [
    {
      "cell_type": "markdown",
      "metadata": {
        "id": "S6nnsi-7WRCu"
      },
      "source": [
        "# Importing libraries"
      ]
    },
    {
      "cell_type": "code",
      "source": [
        "### To activate GPU on Google Cloud\n",
        "!nvidia-smi"
      ],
      "metadata": {
        "colab": {
          "base_uri": "https://localhost:8080/"
        },
        "id": "1KM8kNi_zgtN",
        "outputId": "fc7ea473-175f-44f3-ff43-741768f44beb"
      },
      "execution_count": 4,
      "outputs": [
        {
          "output_type": "stream",
          "name": "stdout",
          "text": [
            "Sun Jul  3 12:38:23 2022       \n",
            "+-----------------------------------------------------------------------------+\n",
            "| NVIDIA-SMI 460.32.03    Driver Version: 460.32.03    CUDA Version: 11.2     |\n",
            "|-------------------------------+----------------------+----------------------+\n",
            "| GPU  Name        Persistence-M| Bus-Id        Disp.A | Volatile Uncorr. ECC |\n",
            "| Fan  Temp  Perf  Pwr:Usage/Cap|         Memory-Usage | GPU-Util  Compute M. |\n",
            "|                               |                      |               MIG M. |\n",
            "|===============================+======================+======================|\n",
            "|   0  Tesla T4            Off  | 00000000:00:04.0 Off |                    0 |\n",
            "| N/A   34C    P8     9W /  70W |      0MiB / 15109MiB |      0%      Default |\n",
            "|                               |                      |                  N/A |\n",
            "+-------------------------------+----------------------+----------------------+\n",
            "                                                                               \n",
            "+-----------------------------------------------------------------------------+\n",
            "| Processes:                                                                  |\n",
            "|  GPU   GI   CI        PID   Type   Process name                  GPU Memory |\n",
            "|        ID   ID                                                   Usage      |\n",
            "|=============================================================================|\n",
            "|  No running processes found                                                 |\n",
            "+-----------------------------------------------------------------------------+\n"
          ]
        }
      ]
    },
    {
      "cell_type": "code",
      "execution_count": 5,
      "metadata": {
        "id": "arRSr1PGWRC4"
      },
      "outputs": [],
      "source": [
        "import os\n",
        "import glob\n",
        "import pandas as pd\n",
        "import numpy as np\n",
        "import matplotlib.pyplot as plt\n",
        "import plotly.graph_objects as go\n",
        "import seaborn as sns\n",
        "import datetime"
      ]
    },
    {
      "cell_type": "code",
      "source": [
        "from google.colab import drive\n",
        "drive.mount('/content/drive')"
      ],
      "metadata": {
        "colab": {
          "base_uri": "https://localhost:8080/"
        },
        "id": "lKDF6IHqtkYN",
        "outputId": "50e018f3-9002-4953-d1b5-f5061c9de350"
      },
      "execution_count": 6,
      "outputs": [
        {
          "output_type": "stream",
          "name": "stdout",
          "text": [
            "Drive already mounted at /content/drive; to attempt to forcibly remount, call drive.mount(\"/content/drive\", force_remount=True).\n"
          ]
        }
      ]
    },
    {
      "cell_type": "markdown",
      "metadata": {
        "id": "l3k2CMm5WRC5"
      },
      "source": [
        "# Import and append multiple files as single DataFrame"
      ]
    },
    {
      "cell_type": "code",
      "execution_count": null,
      "metadata": {
        "scrolled": true,
        "id": "kbvxGDX5WRC6"
      },
      "outputs": [],
      "source": [
        "e1 = pd.DataFrame()\n",
        "\n",
        "path = 'D:/Elai_Workings/Kovai_Assignment/Activity Recognition'\n",
        "\n",
        "all_files = glob.glob(path + \"/*.csv\")\n",
        "\n",
        "for files in all_files:\n",
        "    df = pd.read_csv(files, header=None, names=['S_No','x_Accelaration','y_Accelaration','z_Accelaration','Label'])\n",
        "    df['File_name'] = files\n",
        "    e1 = pd.concat([e1,df], ignore_index=True)\n"
      ]
    },
    {
      "cell_type": "code",
      "source": [
        "e1 = pd.read_csv(\"/content/drive/MyDrive/Assignment/Activity_Recognition_Combined_Files.csv\")"
      ],
      "metadata": {
        "id": "9D9FCgtmpqOT"
      },
      "execution_count": 7,
      "outputs": []
    },
    {
      "cell_type": "code",
      "source": [
        "e1.head()"
      ],
      "metadata": {
        "colab": {
          "base_uri": "https://localhost:8080/",
          "height": 206
        },
        "id": "es3p4_VHpydX",
        "outputId": "4aa045c8-2847-4ceb-d11b-016cacb71a1c"
      },
      "execution_count": 8,
      "outputs": [
        {
          "output_type": "execute_result",
          "data": {
            "text/plain": [
              "   Unnamed: 0  S_No  x_Accelaration  y_Accelaration  z_Accelaration  Label  \\\n",
              "0           0   0.0            1502            2215            2153      1   \n",
              "1           1   1.0            1667            2072            2047      1   \n",
              "2           2   2.0            1611            1957            1906      1   \n",
              "3           3   3.0            1601            1939            1831      1   \n",
              "4           4   4.0            1643            1965            1879      1   \n",
              "\n",
              "                                           File_name  \n",
              "0  D:/Elai_Workings/Kovai_Assignment/Activity Rec...  \n",
              "1  D:/Elai_Workings/Kovai_Assignment/Activity Rec...  \n",
              "2  D:/Elai_Workings/Kovai_Assignment/Activity Rec...  \n",
              "3  D:/Elai_Workings/Kovai_Assignment/Activity Rec...  \n",
              "4  D:/Elai_Workings/Kovai_Assignment/Activity Rec...  "
            ],
            "text/html": [
              "\n",
              "  <div id=\"df-f36f3e87-21a3-4f3a-a425-3a783a3fdee8\">\n",
              "    <div class=\"colab-df-container\">\n",
              "      <div>\n",
              "<style scoped>\n",
              "    .dataframe tbody tr th:only-of-type {\n",
              "        vertical-align: middle;\n",
              "    }\n",
              "\n",
              "    .dataframe tbody tr th {\n",
              "        vertical-align: top;\n",
              "    }\n",
              "\n",
              "    .dataframe thead th {\n",
              "        text-align: right;\n",
              "    }\n",
              "</style>\n",
              "<table border=\"1\" class=\"dataframe\">\n",
              "  <thead>\n",
              "    <tr style=\"text-align: right;\">\n",
              "      <th></th>\n",
              "      <th>Unnamed: 0</th>\n",
              "      <th>S_No</th>\n",
              "      <th>x_Accelaration</th>\n",
              "      <th>y_Accelaration</th>\n",
              "      <th>z_Accelaration</th>\n",
              "      <th>Label</th>\n",
              "      <th>File_name</th>\n",
              "    </tr>\n",
              "  </thead>\n",
              "  <tbody>\n",
              "    <tr>\n",
              "      <th>0</th>\n",
              "      <td>0</td>\n",
              "      <td>0.0</td>\n",
              "      <td>1502</td>\n",
              "      <td>2215</td>\n",
              "      <td>2153</td>\n",
              "      <td>1</td>\n",
              "      <td>D:/Elai_Workings/Kovai_Assignment/Activity Rec...</td>\n",
              "    </tr>\n",
              "    <tr>\n",
              "      <th>1</th>\n",
              "      <td>1</td>\n",
              "      <td>1.0</td>\n",
              "      <td>1667</td>\n",
              "      <td>2072</td>\n",
              "      <td>2047</td>\n",
              "      <td>1</td>\n",
              "      <td>D:/Elai_Workings/Kovai_Assignment/Activity Rec...</td>\n",
              "    </tr>\n",
              "    <tr>\n",
              "      <th>2</th>\n",
              "      <td>2</td>\n",
              "      <td>2.0</td>\n",
              "      <td>1611</td>\n",
              "      <td>1957</td>\n",
              "      <td>1906</td>\n",
              "      <td>1</td>\n",
              "      <td>D:/Elai_Workings/Kovai_Assignment/Activity Rec...</td>\n",
              "    </tr>\n",
              "    <tr>\n",
              "      <th>3</th>\n",
              "      <td>3</td>\n",
              "      <td>3.0</td>\n",
              "      <td>1601</td>\n",
              "      <td>1939</td>\n",
              "      <td>1831</td>\n",
              "      <td>1</td>\n",
              "      <td>D:/Elai_Workings/Kovai_Assignment/Activity Rec...</td>\n",
              "    </tr>\n",
              "    <tr>\n",
              "      <th>4</th>\n",
              "      <td>4</td>\n",
              "      <td>4.0</td>\n",
              "      <td>1643</td>\n",
              "      <td>1965</td>\n",
              "      <td>1879</td>\n",
              "      <td>1</td>\n",
              "      <td>D:/Elai_Workings/Kovai_Assignment/Activity Rec...</td>\n",
              "    </tr>\n",
              "  </tbody>\n",
              "</table>\n",
              "</div>\n",
              "      <button class=\"colab-df-convert\" onclick=\"convertToInteractive('df-f36f3e87-21a3-4f3a-a425-3a783a3fdee8')\"\n",
              "              title=\"Convert this dataframe to an interactive table.\"\n",
              "              style=\"display:none;\">\n",
              "        \n",
              "  <svg xmlns=\"http://www.w3.org/2000/svg\" height=\"24px\"viewBox=\"0 0 24 24\"\n",
              "       width=\"24px\">\n",
              "    <path d=\"M0 0h24v24H0V0z\" fill=\"none\"/>\n",
              "    <path d=\"M18.56 5.44l.94 2.06.94-2.06 2.06-.94-2.06-.94-.94-2.06-.94 2.06-2.06.94zm-11 1L8.5 8.5l.94-2.06 2.06-.94-2.06-.94L8.5 2.5l-.94 2.06-2.06.94zm10 10l.94 2.06.94-2.06 2.06-.94-2.06-.94-.94-2.06-.94 2.06-2.06.94z\"/><path d=\"M17.41 7.96l-1.37-1.37c-.4-.4-.92-.59-1.43-.59-.52 0-1.04.2-1.43.59L10.3 9.45l-7.72 7.72c-.78.78-.78 2.05 0 2.83L4 21.41c.39.39.9.59 1.41.59.51 0 1.02-.2 1.41-.59l7.78-7.78 2.81-2.81c.8-.78.8-2.07 0-2.86zM5.41 20L4 18.59l7.72-7.72 1.47 1.35L5.41 20z\"/>\n",
              "  </svg>\n",
              "      </button>\n",
              "      \n",
              "  <style>\n",
              "    .colab-df-container {\n",
              "      display:flex;\n",
              "      flex-wrap:wrap;\n",
              "      gap: 12px;\n",
              "    }\n",
              "\n",
              "    .colab-df-convert {\n",
              "      background-color: #E8F0FE;\n",
              "      border: none;\n",
              "      border-radius: 50%;\n",
              "      cursor: pointer;\n",
              "      display: none;\n",
              "      fill: #1967D2;\n",
              "      height: 32px;\n",
              "      padding: 0 0 0 0;\n",
              "      width: 32px;\n",
              "    }\n",
              "\n",
              "    .colab-df-convert:hover {\n",
              "      background-color: #E2EBFA;\n",
              "      box-shadow: 0px 1px 2px rgba(60, 64, 67, 0.3), 0px 1px 3px 1px rgba(60, 64, 67, 0.15);\n",
              "      fill: #174EA6;\n",
              "    }\n",
              "\n",
              "    [theme=dark] .colab-df-convert {\n",
              "      background-color: #3B4455;\n",
              "      fill: #D2E3FC;\n",
              "    }\n",
              "\n",
              "    [theme=dark] .colab-df-convert:hover {\n",
              "      background-color: #434B5C;\n",
              "      box-shadow: 0px 1px 3px 1px rgba(0, 0, 0, 0.15);\n",
              "      filter: drop-shadow(0px 1px 2px rgba(0, 0, 0, 0.3));\n",
              "      fill: #FFFFFF;\n",
              "    }\n",
              "  </style>\n",
              "\n",
              "      <script>\n",
              "        const buttonEl =\n",
              "          document.querySelector('#df-f36f3e87-21a3-4f3a-a425-3a783a3fdee8 button.colab-df-convert');\n",
              "        buttonEl.style.display =\n",
              "          google.colab.kernel.accessAllowed ? 'block' : 'none';\n",
              "\n",
              "        async function convertToInteractive(key) {\n",
              "          const element = document.querySelector('#df-f36f3e87-21a3-4f3a-a425-3a783a3fdee8');\n",
              "          const dataTable =\n",
              "            await google.colab.kernel.invokeFunction('convertToInteractive',\n",
              "                                                     [key], {});\n",
              "          if (!dataTable) return;\n",
              "\n",
              "          const docLinkHtml = 'Like what you see? Visit the ' +\n",
              "            '<a target=\"_blank\" href=https://colab.research.google.com/notebooks/data_table.ipynb>data table notebook</a>'\n",
              "            + ' to learn more about interactive tables.';\n",
              "          element.innerHTML = '';\n",
              "          dataTable['output_type'] = 'display_data';\n",
              "          await google.colab.output.renderOutput(dataTable, element);\n",
              "          const docLink = document.createElement('div');\n",
              "          docLink.innerHTML = docLinkHtml;\n",
              "          element.appendChild(docLink);\n",
              "        }\n",
              "      </script>\n",
              "    </div>\n",
              "  </div>\n",
              "  "
            ]
          },
          "metadata": {},
          "execution_count": 8
        }
      ]
    },
    {
      "cell_type": "code",
      "execution_count": 9,
      "metadata": {
        "colab": {
          "base_uri": "https://localhost:8080/"
        },
        "id": "p1m9hlzSWRC7",
        "outputId": "a8150dc9-ec68-4477-aae8-bd2005ee1532"
      },
      "outputs": [
        {
          "output_type": "execute_result",
          "data": {
            "text/plain": [
              "(1926896, 7)"
            ]
          },
          "metadata": {},
          "execution_count": 9
        }
      ],
      "source": [
        "e1.shape"
      ]
    },
    {
      "cell_type": "code",
      "execution_count": 10,
      "metadata": {
        "colab": {
          "base_uri": "https://localhost:8080/"
        },
        "id": "3WetfMITWRC8",
        "outputId": "9006474d-8075-49ab-b5bd-95b8e8c9c0e6"
      },
      "outputs": [
        {
          "output_type": "execute_result",
          "data": {
            "text/plain": [
              "Unnamed: 0          int64\n",
              "S_No              float64\n",
              "x_Accelaration      int64\n",
              "y_Accelaration      int64\n",
              "z_Accelaration      int64\n",
              "Label               int64\n",
              "File_name          object\n",
              "dtype: object"
            ]
          },
          "metadata": {},
          "execution_count": 10
        }
      ],
      "source": [
        "e1.dtypes"
      ]
    },
    {
      "cell_type": "code",
      "execution_count": 11,
      "metadata": {
        "scrolled": true,
        "id": "qRvDEzkdWRC9"
      },
      "outputs": [],
      "source": [
        "e1['S_No'] = e1['S_No'].astype(np.int64)"
      ]
    },
    {
      "cell_type": "code",
      "source": [
        "e1.columns"
      ],
      "metadata": {
        "colab": {
          "base_uri": "https://localhost:8080/"
        },
        "id": "8wdWr034eBOD",
        "outputId": "b80252e4-b12d-481c-ebc8-14925fd03b13"
      },
      "execution_count": 9,
      "outputs": [
        {
          "output_type": "execute_result",
          "data": {
            "text/plain": [
              "Index(['Unnamed: 0', 'S_No', 'x_Accelaration', 'y_Accelaration',\n",
              "       'z_Accelaration', 'Label', 'File_name'],\n",
              "      dtype='object')"
            ]
          },
          "metadata": {},
          "execution_count": 9
        }
      ]
    },
    {
      "cell_type": "code",
      "source": [
        "e1 = e1[['S_No', 'x_Accelaration', 'y_Accelaration','z_Accelaration', 'Label', 'File_name']]"
      ],
      "metadata": {
        "id": "6p2Mtu0Ld7An"
      },
      "execution_count": 12,
      "outputs": []
    },
    {
      "cell_type": "code",
      "execution_count": 13,
      "metadata": {
        "colab": {
          "base_uri": "https://localhost:8080/"
        },
        "id": "RRcXOXnbWRC-",
        "outputId": "6015a9b6-cb46-4b34-cf3b-64fe58ee857b"
      },
      "outputs": [
        {
          "output_type": "execute_result",
          "data": {
            "text/plain": [
              "S_No               int64\n",
              "x_Accelaration     int64\n",
              "y_Accelaration     int64\n",
              "z_Accelaration     int64\n",
              "Label              int64\n",
              "File_name         object\n",
              "dtype: object"
            ]
          },
          "metadata": {},
          "execution_count": 13
        }
      ],
      "source": [
        "e1.dtypes"
      ]
    },
    {
      "cell_type": "code",
      "execution_count": 14,
      "metadata": {
        "scrolled": true,
        "colab": {
          "base_uri": "https://localhost:8080/",
          "height": 206
        },
        "id": "STS0sKdmWRC_",
        "outputId": "9a3e354f-4234-4d78-b613-d1dc7b5a9968"
      },
      "outputs": [
        {
          "output_type": "execute_result",
          "data": {
            "text/plain": [
              "   S_No  x_Accelaration  y_Accelaration  z_Accelaration  Label  \\\n",
              "0     0            1502            2215            2153      1   \n",
              "1     1            1667            2072            2047      1   \n",
              "2     2            1611            1957            1906      1   \n",
              "3     3            1601            1939            1831      1   \n",
              "4     4            1643            1965            1879      1   \n",
              "\n",
              "                                           File_name  \n",
              "0  D:/Elai_Workings/Kovai_Assignment/Activity Rec...  \n",
              "1  D:/Elai_Workings/Kovai_Assignment/Activity Rec...  \n",
              "2  D:/Elai_Workings/Kovai_Assignment/Activity Rec...  \n",
              "3  D:/Elai_Workings/Kovai_Assignment/Activity Rec...  \n",
              "4  D:/Elai_Workings/Kovai_Assignment/Activity Rec...  "
            ],
            "text/html": [
              "\n",
              "  <div id=\"df-ac178eff-7e20-4eef-a210-9f5f40f0b30b\">\n",
              "    <div class=\"colab-df-container\">\n",
              "      <div>\n",
              "<style scoped>\n",
              "    .dataframe tbody tr th:only-of-type {\n",
              "        vertical-align: middle;\n",
              "    }\n",
              "\n",
              "    .dataframe tbody tr th {\n",
              "        vertical-align: top;\n",
              "    }\n",
              "\n",
              "    .dataframe thead th {\n",
              "        text-align: right;\n",
              "    }\n",
              "</style>\n",
              "<table border=\"1\" class=\"dataframe\">\n",
              "  <thead>\n",
              "    <tr style=\"text-align: right;\">\n",
              "      <th></th>\n",
              "      <th>S_No</th>\n",
              "      <th>x_Accelaration</th>\n",
              "      <th>y_Accelaration</th>\n",
              "      <th>z_Accelaration</th>\n",
              "      <th>Label</th>\n",
              "      <th>File_name</th>\n",
              "    </tr>\n",
              "  </thead>\n",
              "  <tbody>\n",
              "    <tr>\n",
              "      <th>0</th>\n",
              "      <td>0</td>\n",
              "      <td>1502</td>\n",
              "      <td>2215</td>\n",
              "      <td>2153</td>\n",
              "      <td>1</td>\n",
              "      <td>D:/Elai_Workings/Kovai_Assignment/Activity Rec...</td>\n",
              "    </tr>\n",
              "    <tr>\n",
              "      <th>1</th>\n",
              "      <td>1</td>\n",
              "      <td>1667</td>\n",
              "      <td>2072</td>\n",
              "      <td>2047</td>\n",
              "      <td>1</td>\n",
              "      <td>D:/Elai_Workings/Kovai_Assignment/Activity Rec...</td>\n",
              "    </tr>\n",
              "    <tr>\n",
              "      <th>2</th>\n",
              "      <td>2</td>\n",
              "      <td>1611</td>\n",
              "      <td>1957</td>\n",
              "      <td>1906</td>\n",
              "      <td>1</td>\n",
              "      <td>D:/Elai_Workings/Kovai_Assignment/Activity Rec...</td>\n",
              "    </tr>\n",
              "    <tr>\n",
              "      <th>3</th>\n",
              "      <td>3</td>\n",
              "      <td>1601</td>\n",
              "      <td>1939</td>\n",
              "      <td>1831</td>\n",
              "      <td>1</td>\n",
              "      <td>D:/Elai_Workings/Kovai_Assignment/Activity Rec...</td>\n",
              "    </tr>\n",
              "    <tr>\n",
              "      <th>4</th>\n",
              "      <td>4</td>\n",
              "      <td>1643</td>\n",
              "      <td>1965</td>\n",
              "      <td>1879</td>\n",
              "      <td>1</td>\n",
              "      <td>D:/Elai_Workings/Kovai_Assignment/Activity Rec...</td>\n",
              "    </tr>\n",
              "  </tbody>\n",
              "</table>\n",
              "</div>\n",
              "      <button class=\"colab-df-convert\" onclick=\"convertToInteractive('df-ac178eff-7e20-4eef-a210-9f5f40f0b30b')\"\n",
              "              title=\"Convert this dataframe to an interactive table.\"\n",
              "              style=\"display:none;\">\n",
              "        \n",
              "  <svg xmlns=\"http://www.w3.org/2000/svg\" height=\"24px\"viewBox=\"0 0 24 24\"\n",
              "       width=\"24px\">\n",
              "    <path d=\"M0 0h24v24H0V0z\" fill=\"none\"/>\n",
              "    <path d=\"M18.56 5.44l.94 2.06.94-2.06 2.06-.94-2.06-.94-.94-2.06-.94 2.06-2.06.94zm-11 1L8.5 8.5l.94-2.06 2.06-.94-2.06-.94L8.5 2.5l-.94 2.06-2.06.94zm10 10l.94 2.06.94-2.06 2.06-.94-2.06-.94-.94-2.06-.94 2.06-2.06.94z\"/><path d=\"M17.41 7.96l-1.37-1.37c-.4-.4-.92-.59-1.43-.59-.52 0-1.04.2-1.43.59L10.3 9.45l-7.72 7.72c-.78.78-.78 2.05 0 2.83L4 21.41c.39.39.9.59 1.41.59.51 0 1.02-.2 1.41-.59l7.78-7.78 2.81-2.81c.8-.78.8-2.07 0-2.86zM5.41 20L4 18.59l7.72-7.72 1.47 1.35L5.41 20z\"/>\n",
              "  </svg>\n",
              "      </button>\n",
              "      \n",
              "  <style>\n",
              "    .colab-df-container {\n",
              "      display:flex;\n",
              "      flex-wrap:wrap;\n",
              "      gap: 12px;\n",
              "    }\n",
              "\n",
              "    .colab-df-convert {\n",
              "      background-color: #E8F0FE;\n",
              "      border: none;\n",
              "      border-radius: 50%;\n",
              "      cursor: pointer;\n",
              "      display: none;\n",
              "      fill: #1967D2;\n",
              "      height: 32px;\n",
              "      padding: 0 0 0 0;\n",
              "      width: 32px;\n",
              "    }\n",
              "\n",
              "    .colab-df-convert:hover {\n",
              "      background-color: #E2EBFA;\n",
              "      box-shadow: 0px 1px 2px rgba(60, 64, 67, 0.3), 0px 1px 3px 1px rgba(60, 64, 67, 0.15);\n",
              "      fill: #174EA6;\n",
              "    }\n",
              "\n",
              "    [theme=dark] .colab-df-convert {\n",
              "      background-color: #3B4455;\n",
              "      fill: #D2E3FC;\n",
              "    }\n",
              "\n",
              "    [theme=dark] .colab-df-convert:hover {\n",
              "      background-color: #434B5C;\n",
              "      box-shadow: 0px 1px 3px 1px rgba(0, 0, 0, 0.15);\n",
              "      filter: drop-shadow(0px 1px 2px rgba(0, 0, 0, 0.3));\n",
              "      fill: #FFFFFF;\n",
              "    }\n",
              "  </style>\n",
              "\n",
              "      <script>\n",
              "        const buttonEl =\n",
              "          document.querySelector('#df-ac178eff-7e20-4eef-a210-9f5f40f0b30b button.colab-df-convert');\n",
              "        buttonEl.style.display =\n",
              "          google.colab.kernel.accessAllowed ? 'block' : 'none';\n",
              "\n",
              "        async function convertToInteractive(key) {\n",
              "          const element = document.querySelector('#df-ac178eff-7e20-4eef-a210-9f5f40f0b30b');\n",
              "          const dataTable =\n",
              "            await google.colab.kernel.invokeFunction('convertToInteractive',\n",
              "                                                     [key], {});\n",
              "          if (!dataTable) return;\n",
              "\n",
              "          const docLinkHtml = 'Like what you see? Visit the ' +\n",
              "            '<a target=\"_blank\" href=https://colab.research.google.com/notebooks/data_table.ipynb>data table notebook</a>'\n",
              "            + ' to learn more about interactive tables.';\n",
              "          element.innerHTML = '';\n",
              "          dataTable['output_type'] = 'display_data';\n",
              "          await google.colab.output.renderOutput(dataTable, element);\n",
              "          const docLink = document.createElement('div');\n",
              "          docLink.innerHTML = docLinkHtml;\n",
              "          element.appendChild(docLink);\n",
              "        }\n",
              "      </script>\n",
              "    </div>\n",
              "  </div>\n",
              "  "
            ]
          },
          "metadata": {},
          "execution_count": 14
        }
      ],
      "source": [
        "e1.head()"
      ]
    },
    {
      "cell_type": "code",
      "execution_count": 15,
      "metadata": {
        "colab": {
          "base_uri": "https://localhost:8080/",
          "height": 206
        },
        "id": "mdKnELMqWRC_",
        "outputId": "a6ba787c-22d2-4425-ff80-2a127828b4fc"
      },
      "outputs": [
        {
          "output_type": "execute_result",
          "data": {
            "text/plain": [
              "                    count          mean           std    min      25%  \\\n",
              "S_No            1926896.0  67112.826657  41461.908989    0.0  32114.0   \n",
              "x_Accelaration  1926896.0   1987.652176    111.357792  282.0   1904.0   \n",
              "y_Accelaration  1926896.0   2382.522846    100.315089    2.0   2337.0   \n",
              "z_Accelaration  1926896.0   1970.596134     94.458932    1.0   1918.0   \n",
              "Label           1926896.0      3.882898      2.443402    0.0      1.0   \n",
              "\n",
              "                    50%      75%       max  \n",
              "S_No            64229.0  98394.0  166740.0  \n",
              "x_Accelaration   1992.0   2076.0    3828.0  \n",
              "y_Accelaration   2367.0   2413.0    4095.0  \n",
              "z_Accelaration   1988.0   2032.0    4095.0  \n",
              "Label               4.0      7.0       7.0  "
            ],
            "text/html": [
              "\n",
              "  <div id=\"df-5380dbbd-531b-45e2-84ee-f99b704dfef0\">\n",
              "    <div class=\"colab-df-container\">\n",
              "      <div>\n",
              "<style scoped>\n",
              "    .dataframe tbody tr th:only-of-type {\n",
              "        vertical-align: middle;\n",
              "    }\n",
              "\n",
              "    .dataframe tbody tr th {\n",
              "        vertical-align: top;\n",
              "    }\n",
              "\n",
              "    .dataframe thead th {\n",
              "        text-align: right;\n",
              "    }\n",
              "</style>\n",
              "<table border=\"1\" class=\"dataframe\">\n",
              "  <thead>\n",
              "    <tr style=\"text-align: right;\">\n",
              "      <th></th>\n",
              "      <th>count</th>\n",
              "      <th>mean</th>\n",
              "      <th>std</th>\n",
              "      <th>min</th>\n",
              "      <th>25%</th>\n",
              "      <th>50%</th>\n",
              "      <th>75%</th>\n",
              "      <th>max</th>\n",
              "    </tr>\n",
              "  </thead>\n",
              "  <tbody>\n",
              "    <tr>\n",
              "      <th>S_No</th>\n",
              "      <td>1926896.0</td>\n",
              "      <td>67112.826657</td>\n",
              "      <td>41461.908989</td>\n",
              "      <td>0.0</td>\n",
              "      <td>32114.0</td>\n",
              "      <td>64229.0</td>\n",
              "      <td>98394.0</td>\n",
              "      <td>166740.0</td>\n",
              "    </tr>\n",
              "    <tr>\n",
              "      <th>x_Accelaration</th>\n",
              "      <td>1926896.0</td>\n",
              "      <td>1987.652176</td>\n",
              "      <td>111.357792</td>\n",
              "      <td>282.0</td>\n",
              "      <td>1904.0</td>\n",
              "      <td>1992.0</td>\n",
              "      <td>2076.0</td>\n",
              "      <td>3828.0</td>\n",
              "    </tr>\n",
              "    <tr>\n",
              "      <th>y_Accelaration</th>\n",
              "      <td>1926896.0</td>\n",
              "      <td>2382.522846</td>\n",
              "      <td>100.315089</td>\n",
              "      <td>2.0</td>\n",
              "      <td>2337.0</td>\n",
              "      <td>2367.0</td>\n",
              "      <td>2413.0</td>\n",
              "      <td>4095.0</td>\n",
              "    </tr>\n",
              "    <tr>\n",
              "      <th>z_Accelaration</th>\n",
              "      <td>1926896.0</td>\n",
              "      <td>1970.596134</td>\n",
              "      <td>94.458932</td>\n",
              "      <td>1.0</td>\n",
              "      <td>1918.0</td>\n",
              "      <td>1988.0</td>\n",
              "      <td>2032.0</td>\n",
              "      <td>4095.0</td>\n",
              "    </tr>\n",
              "    <tr>\n",
              "      <th>Label</th>\n",
              "      <td>1926896.0</td>\n",
              "      <td>3.882898</td>\n",
              "      <td>2.443402</td>\n",
              "      <td>0.0</td>\n",
              "      <td>1.0</td>\n",
              "      <td>4.0</td>\n",
              "      <td>7.0</td>\n",
              "      <td>7.0</td>\n",
              "    </tr>\n",
              "  </tbody>\n",
              "</table>\n",
              "</div>\n",
              "      <button class=\"colab-df-convert\" onclick=\"convertToInteractive('df-5380dbbd-531b-45e2-84ee-f99b704dfef0')\"\n",
              "              title=\"Convert this dataframe to an interactive table.\"\n",
              "              style=\"display:none;\">\n",
              "        \n",
              "  <svg xmlns=\"http://www.w3.org/2000/svg\" height=\"24px\"viewBox=\"0 0 24 24\"\n",
              "       width=\"24px\">\n",
              "    <path d=\"M0 0h24v24H0V0z\" fill=\"none\"/>\n",
              "    <path d=\"M18.56 5.44l.94 2.06.94-2.06 2.06-.94-2.06-.94-.94-2.06-.94 2.06-2.06.94zm-11 1L8.5 8.5l.94-2.06 2.06-.94-2.06-.94L8.5 2.5l-.94 2.06-2.06.94zm10 10l.94 2.06.94-2.06 2.06-.94-2.06-.94-.94-2.06-.94 2.06-2.06.94z\"/><path d=\"M17.41 7.96l-1.37-1.37c-.4-.4-.92-.59-1.43-.59-.52 0-1.04.2-1.43.59L10.3 9.45l-7.72 7.72c-.78.78-.78 2.05 0 2.83L4 21.41c.39.39.9.59 1.41.59.51 0 1.02-.2 1.41-.59l7.78-7.78 2.81-2.81c.8-.78.8-2.07 0-2.86zM5.41 20L4 18.59l7.72-7.72 1.47 1.35L5.41 20z\"/>\n",
              "  </svg>\n",
              "      </button>\n",
              "      \n",
              "  <style>\n",
              "    .colab-df-container {\n",
              "      display:flex;\n",
              "      flex-wrap:wrap;\n",
              "      gap: 12px;\n",
              "    }\n",
              "\n",
              "    .colab-df-convert {\n",
              "      background-color: #E8F0FE;\n",
              "      border: none;\n",
              "      border-radius: 50%;\n",
              "      cursor: pointer;\n",
              "      display: none;\n",
              "      fill: #1967D2;\n",
              "      height: 32px;\n",
              "      padding: 0 0 0 0;\n",
              "      width: 32px;\n",
              "    }\n",
              "\n",
              "    .colab-df-convert:hover {\n",
              "      background-color: #E2EBFA;\n",
              "      box-shadow: 0px 1px 2px rgba(60, 64, 67, 0.3), 0px 1px 3px 1px rgba(60, 64, 67, 0.15);\n",
              "      fill: #174EA6;\n",
              "    }\n",
              "\n",
              "    [theme=dark] .colab-df-convert {\n",
              "      background-color: #3B4455;\n",
              "      fill: #D2E3FC;\n",
              "    }\n",
              "\n",
              "    [theme=dark] .colab-df-convert:hover {\n",
              "      background-color: #434B5C;\n",
              "      box-shadow: 0px 1px 3px 1px rgba(0, 0, 0, 0.15);\n",
              "      filter: drop-shadow(0px 1px 2px rgba(0, 0, 0, 0.3));\n",
              "      fill: #FFFFFF;\n",
              "    }\n",
              "  </style>\n",
              "\n",
              "      <script>\n",
              "        const buttonEl =\n",
              "          document.querySelector('#df-5380dbbd-531b-45e2-84ee-f99b704dfef0 button.colab-df-convert');\n",
              "        buttonEl.style.display =\n",
              "          google.colab.kernel.accessAllowed ? 'block' : 'none';\n",
              "\n",
              "        async function convertToInteractive(key) {\n",
              "          const element = document.querySelector('#df-5380dbbd-531b-45e2-84ee-f99b704dfef0');\n",
              "          const dataTable =\n",
              "            await google.colab.kernel.invokeFunction('convertToInteractive',\n",
              "                                                     [key], {});\n",
              "          if (!dataTable) return;\n",
              "\n",
              "          const docLinkHtml = 'Like what you see? Visit the ' +\n",
              "            '<a target=\"_blank\" href=https://colab.research.google.com/notebooks/data_table.ipynb>data table notebook</a>'\n",
              "            + ' to learn more about interactive tables.';\n",
              "          element.innerHTML = '';\n",
              "          dataTable['output_type'] = 'display_data';\n",
              "          await google.colab.output.renderOutput(dataTable, element);\n",
              "          const docLink = document.createElement('div');\n",
              "          docLink.innerHTML = docLinkHtml;\n",
              "          element.appendChild(docLink);\n",
              "        }\n",
              "      </script>\n",
              "    </div>\n",
              "  </div>\n",
              "  "
            ]
          },
          "metadata": {},
          "execution_count": 15
        }
      ],
      "source": [
        "e1.describe().T"
      ]
    },
    {
      "cell_type": "code",
      "execution_count": 16,
      "metadata": {
        "colab": {
          "base_uri": "https://localhost:8080/"
        },
        "id": "CgrSAktGWRDA",
        "outputId": "58b898de-3171-44c3-b606-842682fb32bf"
      },
      "outputs": [
        {
          "output_type": "execute_result",
          "data": {
            "text/plain": [
              "1    608667\n",
              "7    593563\n",
              "4    357064\n",
              "3    216737\n",
              "5     51498\n",
              "2     47878\n",
              "6     47770\n",
              "0      3719\n",
              "Name: Label, dtype: int64"
            ]
          },
          "metadata": {},
          "execution_count": 16
        }
      ],
      "source": [
        "e1.Label.value_counts()"
      ]
    },
    {
      "cell_type": "code",
      "execution_count": 17,
      "metadata": {
        "scrolled": true,
        "colab": {
          "base_uri": "https://localhost:8080/"
        },
        "id": "xdTxp2GxWRDA",
        "outputId": "dc53334d-5519-4b56-b414-2a142e6294e1"
      },
      "outputs": [
        {
          "output_type": "execute_result",
          "data": {
            "text/plain": [
              "1    0.315880\n",
              "7    0.308041\n",
              "4    0.185305\n",
              "3    0.112480\n",
              "5    0.026726\n",
              "2    0.024847\n",
              "6    0.024791\n",
              "0    0.001930\n",
              "Name: Label, dtype: float64"
            ]
          },
          "metadata": {},
          "execution_count": 17
        }
      ],
      "source": [
        "e1.Label.value_counts(normalize = True) "
      ]
    },
    {
      "cell_type": "code",
      "execution_count": 18,
      "metadata": {
        "colab": {
          "base_uri": "https://localhost:8080/"
        },
        "id": "iNalNjS_WRDB",
        "outputId": "d1a1ee6f-d408-4226-d28c-1d69e497e854"
      },
      "outputs": [
        {
          "output_type": "execute_result",
          "data": {
            "text/plain": [
              "S_No              0\n",
              "x_Accelaration    0\n",
              "y_Accelaration    0\n",
              "z_Accelaration    0\n",
              "Label             0\n",
              "File_name         0\n",
              "dtype: int64"
            ]
          },
          "metadata": {},
          "execution_count": 18
        }
      ],
      "source": [
        "e1.isnull().sum()"
      ]
    },
    {
      "cell_type": "code",
      "execution_count": 15,
      "metadata": {
        "colab": {
          "base_uri": "https://localhost:8080/"
        },
        "id": "lK0mXit_WRDB",
        "outputId": "c65e1b4f-8541-453c-8491-ad5c16b65402"
      },
      "outputs": [
        {
          "output_type": "execute_result",
          "data": {
            "text/plain": [
              "Index(['S_No', 'x_Accelaration', 'y_Accelaration', 'z_Accelaration', 'Label',\n",
              "       'File_name'],\n",
              "      dtype='object')"
            ]
          },
          "metadata": {},
          "execution_count": 15
        }
      ],
      "source": [
        "e1.columns"
      ]
    },
    {
      "cell_type": "code",
      "execution_count": null,
      "metadata": {
        "id": "fMSkHlDVWRDC"
      },
      "outputs": [],
      "source": [
        "# !pip install xgboost"
      ]
    },
    {
      "cell_type": "code",
      "execution_count": 19,
      "metadata": {
        "id": "tqjIl7ySWRDC"
      },
      "outputs": [],
      "source": [
        "from sklearn.preprocessing import MinMaxScaler\n",
        "from sklearn.model_selection import train_test_split\n",
        "from sklearn.model_selection import GridSearchCV\n",
        "\n",
        "from sklearn import linear_model\n",
        "from sklearn.svm import SVC\n",
        "from sklearn.neighbors import KNeighborsClassifier\n",
        "from sklearn.naive_bayes import MultinomialNB\n",
        "from sklearn.ensemble import AdaBoostClassifier\n",
        "from sklearn.ensemble import GradientBoostingClassifier\n",
        "from xgboost import XGBClassifier \n",
        "from sklearn.tree import DecisionTreeClassifier\n",
        "from sklearn.ensemble import RandomForestClassifier\n",
        "\n",
        "from sklearn.metrics import confusion_matrix, accuracy_score\n"
      ]
    },
    {
      "cell_type": "code",
      "execution_count": 17,
      "metadata": {
        "colab": {
          "base_uri": "https://localhost:8080/",
          "height": 206
        },
        "id": "gJmnJW9hWRDD",
        "outputId": "3a908942-d3c3-4577-a730-b1a460ae55f0"
      },
      "outputs": [
        {
          "output_type": "execute_result",
          "data": {
            "text/plain": [
              "   S_No  x_Accelaration  y_Accelaration  z_Accelaration  Label  \\\n",
              "0     0            1502            2215            2153      1   \n",
              "1     1            1667            2072            2047      1   \n",
              "2     2            1611            1957            1906      1   \n",
              "3     3            1601            1939            1831      1   \n",
              "4     4            1643            1965            1879      1   \n",
              "\n",
              "                                           File_name  \n",
              "0  D:/Elai_Workings/Kovai_Assignment/Activity Rec...  \n",
              "1  D:/Elai_Workings/Kovai_Assignment/Activity Rec...  \n",
              "2  D:/Elai_Workings/Kovai_Assignment/Activity Rec...  \n",
              "3  D:/Elai_Workings/Kovai_Assignment/Activity Rec...  \n",
              "4  D:/Elai_Workings/Kovai_Assignment/Activity Rec...  "
            ],
            "text/html": [
              "\n",
              "  <div id=\"df-61b5f426-3dcb-4c2c-8a24-d24bf10529f4\">\n",
              "    <div class=\"colab-df-container\">\n",
              "      <div>\n",
              "<style scoped>\n",
              "    .dataframe tbody tr th:only-of-type {\n",
              "        vertical-align: middle;\n",
              "    }\n",
              "\n",
              "    .dataframe tbody tr th {\n",
              "        vertical-align: top;\n",
              "    }\n",
              "\n",
              "    .dataframe thead th {\n",
              "        text-align: right;\n",
              "    }\n",
              "</style>\n",
              "<table border=\"1\" class=\"dataframe\">\n",
              "  <thead>\n",
              "    <tr style=\"text-align: right;\">\n",
              "      <th></th>\n",
              "      <th>S_No</th>\n",
              "      <th>x_Accelaration</th>\n",
              "      <th>y_Accelaration</th>\n",
              "      <th>z_Accelaration</th>\n",
              "      <th>Label</th>\n",
              "      <th>File_name</th>\n",
              "    </tr>\n",
              "  </thead>\n",
              "  <tbody>\n",
              "    <tr>\n",
              "      <th>0</th>\n",
              "      <td>0</td>\n",
              "      <td>1502</td>\n",
              "      <td>2215</td>\n",
              "      <td>2153</td>\n",
              "      <td>1</td>\n",
              "      <td>D:/Elai_Workings/Kovai_Assignment/Activity Rec...</td>\n",
              "    </tr>\n",
              "    <tr>\n",
              "      <th>1</th>\n",
              "      <td>1</td>\n",
              "      <td>1667</td>\n",
              "      <td>2072</td>\n",
              "      <td>2047</td>\n",
              "      <td>1</td>\n",
              "      <td>D:/Elai_Workings/Kovai_Assignment/Activity Rec...</td>\n",
              "    </tr>\n",
              "    <tr>\n",
              "      <th>2</th>\n",
              "      <td>2</td>\n",
              "      <td>1611</td>\n",
              "      <td>1957</td>\n",
              "      <td>1906</td>\n",
              "      <td>1</td>\n",
              "      <td>D:/Elai_Workings/Kovai_Assignment/Activity Rec...</td>\n",
              "    </tr>\n",
              "    <tr>\n",
              "      <th>3</th>\n",
              "      <td>3</td>\n",
              "      <td>1601</td>\n",
              "      <td>1939</td>\n",
              "      <td>1831</td>\n",
              "      <td>1</td>\n",
              "      <td>D:/Elai_Workings/Kovai_Assignment/Activity Rec...</td>\n",
              "    </tr>\n",
              "    <tr>\n",
              "      <th>4</th>\n",
              "      <td>4</td>\n",
              "      <td>1643</td>\n",
              "      <td>1965</td>\n",
              "      <td>1879</td>\n",
              "      <td>1</td>\n",
              "      <td>D:/Elai_Workings/Kovai_Assignment/Activity Rec...</td>\n",
              "    </tr>\n",
              "  </tbody>\n",
              "</table>\n",
              "</div>\n",
              "      <button class=\"colab-df-convert\" onclick=\"convertToInteractive('df-61b5f426-3dcb-4c2c-8a24-d24bf10529f4')\"\n",
              "              title=\"Convert this dataframe to an interactive table.\"\n",
              "              style=\"display:none;\">\n",
              "        \n",
              "  <svg xmlns=\"http://www.w3.org/2000/svg\" height=\"24px\"viewBox=\"0 0 24 24\"\n",
              "       width=\"24px\">\n",
              "    <path d=\"M0 0h24v24H0V0z\" fill=\"none\"/>\n",
              "    <path d=\"M18.56 5.44l.94 2.06.94-2.06 2.06-.94-2.06-.94-.94-2.06-.94 2.06-2.06.94zm-11 1L8.5 8.5l.94-2.06 2.06-.94-2.06-.94L8.5 2.5l-.94 2.06-2.06.94zm10 10l.94 2.06.94-2.06 2.06-.94-2.06-.94-.94-2.06-.94 2.06-2.06.94z\"/><path d=\"M17.41 7.96l-1.37-1.37c-.4-.4-.92-.59-1.43-.59-.52 0-1.04.2-1.43.59L10.3 9.45l-7.72 7.72c-.78.78-.78 2.05 0 2.83L4 21.41c.39.39.9.59 1.41.59.51 0 1.02-.2 1.41-.59l7.78-7.78 2.81-2.81c.8-.78.8-2.07 0-2.86zM5.41 20L4 18.59l7.72-7.72 1.47 1.35L5.41 20z\"/>\n",
              "  </svg>\n",
              "      </button>\n",
              "      \n",
              "  <style>\n",
              "    .colab-df-container {\n",
              "      display:flex;\n",
              "      flex-wrap:wrap;\n",
              "      gap: 12px;\n",
              "    }\n",
              "\n",
              "    .colab-df-convert {\n",
              "      background-color: #E8F0FE;\n",
              "      border: none;\n",
              "      border-radius: 50%;\n",
              "      cursor: pointer;\n",
              "      display: none;\n",
              "      fill: #1967D2;\n",
              "      height: 32px;\n",
              "      padding: 0 0 0 0;\n",
              "      width: 32px;\n",
              "    }\n",
              "\n",
              "    .colab-df-convert:hover {\n",
              "      background-color: #E2EBFA;\n",
              "      box-shadow: 0px 1px 2px rgba(60, 64, 67, 0.3), 0px 1px 3px 1px rgba(60, 64, 67, 0.15);\n",
              "      fill: #174EA6;\n",
              "    }\n",
              "\n",
              "    [theme=dark] .colab-df-convert {\n",
              "      background-color: #3B4455;\n",
              "      fill: #D2E3FC;\n",
              "    }\n",
              "\n",
              "    [theme=dark] .colab-df-convert:hover {\n",
              "      background-color: #434B5C;\n",
              "      box-shadow: 0px 1px 3px 1px rgba(0, 0, 0, 0.15);\n",
              "      filter: drop-shadow(0px 1px 2px rgba(0, 0, 0, 0.3));\n",
              "      fill: #FFFFFF;\n",
              "    }\n",
              "  </style>\n",
              "\n",
              "      <script>\n",
              "        const buttonEl =\n",
              "          document.querySelector('#df-61b5f426-3dcb-4c2c-8a24-d24bf10529f4 button.colab-df-convert');\n",
              "        buttonEl.style.display =\n",
              "          google.colab.kernel.accessAllowed ? 'block' : 'none';\n",
              "\n",
              "        async function convertToInteractive(key) {\n",
              "          const element = document.querySelector('#df-61b5f426-3dcb-4c2c-8a24-d24bf10529f4');\n",
              "          const dataTable =\n",
              "            await google.colab.kernel.invokeFunction('convertToInteractive',\n",
              "                                                     [key], {});\n",
              "          if (!dataTable) return;\n",
              "\n",
              "          const docLinkHtml = 'Like what you see? Visit the ' +\n",
              "            '<a target=\"_blank\" href=https://colab.research.google.com/notebooks/data_table.ipynb>data table notebook</a>'\n",
              "            + ' to learn more about interactive tables.';\n",
              "          element.innerHTML = '';\n",
              "          dataTable['output_type'] = 'display_data';\n",
              "          await google.colab.output.renderOutput(dataTable, element);\n",
              "          const docLink = document.createElement('div');\n",
              "          docLink.innerHTML = docLinkHtml;\n",
              "          element.appendChild(docLink);\n",
              "        }\n",
              "      </script>\n",
              "    </div>\n",
              "  </div>\n",
              "  "
            ]
          },
          "metadata": {},
          "execution_count": 17
        }
      ],
      "source": [
        "e1.head()"
      ]
    },
    {
      "cell_type": "code",
      "execution_count": 20,
      "metadata": {
        "id": "QiC1qpAVWRDD"
      },
      "outputs": [],
      "source": [
        "e1[['x_Accelaration', 'y_Accelaration', 'z_Accelaration']] = MinMaxScaler().fit_transform(e1[['x_Accelaration', 'y_Accelaration', 'z_Accelaration']])"
      ]
    },
    {
      "cell_type": "code",
      "execution_count": 19,
      "metadata": {
        "colab": {
          "base_uri": "https://localhost:8080/",
          "height": 206
        },
        "id": "mI1zq4ttWRDE",
        "outputId": "39d234d3-a822-4cc6-99ac-2ce2dc5c2db7"
      },
      "outputs": [
        {
          "output_type": "execute_result",
          "data": {
            "text/plain": [
              "   S_No  x_Accelaration  y_Accelaration  z_Accelaration  Label  \\\n",
              "0     0        0.344050        0.540679        0.525647      1   \n",
              "1     1        0.390581        0.505742        0.499756      1   \n",
              "2     2        0.374788        0.477645        0.465315      1   \n",
              "3     3        0.371968        0.473247        0.446996      1   \n",
              "4     4        0.383813        0.479599        0.458720      1   \n",
              "\n",
              "                                           File_name  \n",
              "0  D:/Elai_Workings/Kovai_Assignment/Activity Rec...  \n",
              "1  D:/Elai_Workings/Kovai_Assignment/Activity Rec...  \n",
              "2  D:/Elai_Workings/Kovai_Assignment/Activity Rec...  \n",
              "3  D:/Elai_Workings/Kovai_Assignment/Activity Rec...  \n",
              "4  D:/Elai_Workings/Kovai_Assignment/Activity Rec...  "
            ],
            "text/html": [
              "\n",
              "  <div id=\"df-9c2c56bd-9b8e-4843-91ad-04edf23a810c\">\n",
              "    <div class=\"colab-df-container\">\n",
              "      <div>\n",
              "<style scoped>\n",
              "    .dataframe tbody tr th:only-of-type {\n",
              "        vertical-align: middle;\n",
              "    }\n",
              "\n",
              "    .dataframe tbody tr th {\n",
              "        vertical-align: top;\n",
              "    }\n",
              "\n",
              "    .dataframe thead th {\n",
              "        text-align: right;\n",
              "    }\n",
              "</style>\n",
              "<table border=\"1\" class=\"dataframe\">\n",
              "  <thead>\n",
              "    <tr style=\"text-align: right;\">\n",
              "      <th></th>\n",
              "      <th>S_No</th>\n",
              "      <th>x_Accelaration</th>\n",
              "      <th>y_Accelaration</th>\n",
              "      <th>z_Accelaration</th>\n",
              "      <th>Label</th>\n",
              "      <th>File_name</th>\n",
              "    </tr>\n",
              "  </thead>\n",
              "  <tbody>\n",
              "    <tr>\n",
              "      <th>0</th>\n",
              "      <td>0</td>\n",
              "      <td>0.344050</td>\n",
              "      <td>0.540679</td>\n",
              "      <td>0.525647</td>\n",
              "      <td>1</td>\n",
              "      <td>D:/Elai_Workings/Kovai_Assignment/Activity Rec...</td>\n",
              "    </tr>\n",
              "    <tr>\n",
              "      <th>1</th>\n",
              "      <td>1</td>\n",
              "      <td>0.390581</td>\n",
              "      <td>0.505742</td>\n",
              "      <td>0.499756</td>\n",
              "      <td>1</td>\n",
              "      <td>D:/Elai_Workings/Kovai_Assignment/Activity Rec...</td>\n",
              "    </tr>\n",
              "    <tr>\n",
              "      <th>2</th>\n",
              "      <td>2</td>\n",
              "      <td>0.374788</td>\n",
              "      <td>0.477645</td>\n",
              "      <td>0.465315</td>\n",
              "      <td>1</td>\n",
              "      <td>D:/Elai_Workings/Kovai_Assignment/Activity Rec...</td>\n",
              "    </tr>\n",
              "    <tr>\n",
              "      <th>3</th>\n",
              "      <td>3</td>\n",
              "      <td>0.371968</td>\n",
              "      <td>0.473247</td>\n",
              "      <td>0.446996</td>\n",
              "      <td>1</td>\n",
              "      <td>D:/Elai_Workings/Kovai_Assignment/Activity Rec...</td>\n",
              "    </tr>\n",
              "    <tr>\n",
              "      <th>4</th>\n",
              "      <td>4</td>\n",
              "      <td>0.383813</td>\n",
              "      <td>0.479599</td>\n",
              "      <td>0.458720</td>\n",
              "      <td>1</td>\n",
              "      <td>D:/Elai_Workings/Kovai_Assignment/Activity Rec...</td>\n",
              "    </tr>\n",
              "  </tbody>\n",
              "</table>\n",
              "</div>\n",
              "      <button class=\"colab-df-convert\" onclick=\"convertToInteractive('df-9c2c56bd-9b8e-4843-91ad-04edf23a810c')\"\n",
              "              title=\"Convert this dataframe to an interactive table.\"\n",
              "              style=\"display:none;\">\n",
              "        \n",
              "  <svg xmlns=\"http://www.w3.org/2000/svg\" height=\"24px\"viewBox=\"0 0 24 24\"\n",
              "       width=\"24px\">\n",
              "    <path d=\"M0 0h24v24H0V0z\" fill=\"none\"/>\n",
              "    <path d=\"M18.56 5.44l.94 2.06.94-2.06 2.06-.94-2.06-.94-.94-2.06-.94 2.06-2.06.94zm-11 1L8.5 8.5l.94-2.06 2.06-.94-2.06-.94L8.5 2.5l-.94 2.06-2.06.94zm10 10l.94 2.06.94-2.06 2.06-.94-2.06-.94-.94-2.06-.94 2.06-2.06.94z\"/><path d=\"M17.41 7.96l-1.37-1.37c-.4-.4-.92-.59-1.43-.59-.52 0-1.04.2-1.43.59L10.3 9.45l-7.72 7.72c-.78.78-.78 2.05 0 2.83L4 21.41c.39.39.9.59 1.41.59.51 0 1.02-.2 1.41-.59l7.78-7.78 2.81-2.81c.8-.78.8-2.07 0-2.86zM5.41 20L4 18.59l7.72-7.72 1.47 1.35L5.41 20z\"/>\n",
              "  </svg>\n",
              "      </button>\n",
              "      \n",
              "  <style>\n",
              "    .colab-df-container {\n",
              "      display:flex;\n",
              "      flex-wrap:wrap;\n",
              "      gap: 12px;\n",
              "    }\n",
              "\n",
              "    .colab-df-convert {\n",
              "      background-color: #E8F0FE;\n",
              "      border: none;\n",
              "      border-radius: 50%;\n",
              "      cursor: pointer;\n",
              "      display: none;\n",
              "      fill: #1967D2;\n",
              "      height: 32px;\n",
              "      padding: 0 0 0 0;\n",
              "      width: 32px;\n",
              "    }\n",
              "\n",
              "    .colab-df-convert:hover {\n",
              "      background-color: #E2EBFA;\n",
              "      box-shadow: 0px 1px 2px rgba(60, 64, 67, 0.3), 0px 1px 3px 1px rgba(60, 64, 67, 0.15);\n",
              "      fill: #174EA6;\n",
              "    }\n",
              "\n",
              "    [theme=dark] .colab-df-convert {\n",
              "      background-color: #3B4455;\n",
              "      fill: #D2E3FC;\n",
              "    }\n",
              "\n",
              "    [theme=dark] .colab-df-convert:hover {\n",
              "      background-color: #434B5C;\n",
              "      box-shadow: 0px 1px 3px 1px rgba(0, 0, 0, 0.15);\n",
              "      filter: drop-shadow(0px 1px 2px rgba(0, 0, 0, 0.3));\n",
              "      fill: #FFFFFF;\n",
              "    }\n",
              "  </style>\n",
              "\n",
              "      <script>\n",
              "        const buttonEl =\n",
              "          document.querySelector('#df-9c2c56bd-9b8e-4843-91ad-04edf23a810c button.colab-df-convert');\n",
              "        buttonEl.style.display =\n",
              "          google.colab.kernel.accessAllowed ? 'block' : 'none';\n",
              "\n",
              "        async function convertToInteractive(key) {\n",
              "          const element = document.querySelector('#df-9c2c56bd-9b8e-4843-91ad-04edf23a810c');\n",
              "          const dataTable =\n",
              "            await google.colab.kernel.invokeFunction('convertToInteractive',\n",
              "                                                     [key], {});\n",
              "          if (!dataTable) return;\n",
              "\n",
              "          const docLinkHtml = 'Like what you see? Visit the ' +\n",
              "            '<a target=\"_blank\" href=https://colab.research.google.com/notebooks/data_table.ipynb>data table notebook</a>'\n",
              "            + ' to learn more about interactive tables.';\n",
              "          element.innerHTML = '';\n",
              "          dataTable['output_type'] = 'display_data';\n",
              "          await google.colab.output.renderOutput(dataTable, element);\n",
              "          const docLink = document.createElement('div');\n",
              "          docLink.innerHTML = docLinkHtml;\n",
              "          element.appendChild(docLink);\n",
              "        }\n",
              "      </script>\n",
              "    </div>\n",
              "  </div>\n",
              "  "
            ]
          },
          "metadata": {},
          "execution_count": 19
        }
      ],
      "source": [
        "e1.head()"
      ]
    },
    {
      "cell_type": "code",
      "execution_count": 21,
      "metadata": {
        "id": "zzpLpVEwWRDE"
      },
      "outputs": [],
      "source": [
        "x = e1[['x_Accelaration', 'y_Accelaration', 'z_Accelaration']]\n",
        "y = e1['Label']"
      ]
    },
    {
      "cell_type": "code",
      "execution_count": 21,
      "metadata": {
        "colab": {
          "base_uri": "https://localhost:8080/",
          "height": 206
        },
        "id": "hkXcqp98WRDF",
        "outputId": "b3851ba5-8b8b-4ad2-ccb8-6fa28352c1b0"
      },
      "outputs": [
        {
          "output_type": "execute_result",
          "data": {
            "text/plain": [
              "   x_Accelaration  y_Accelaration  z_Accelaration\n",
              "0        0.344050        0.540679        0.525647\n",
              "1        0.390581        0.505742        0.499756\n",
              "2        0.374788        0.477645        0.465315\n",
              "3        0.371968        0.473247        0.446996\n",
              "4        0.383813        0.479599        0.458720"
            ],
            "text/html": [
              "\n",
              "  <div id=\"df-73c6f861-f917-452d-96be-a5bec6b30b89\">\n",
              "    <div class=\"colab-df-container\">\n",
              "      <div>\n",
              "<style scoped>\n",
              "    .dataframe tbody tr th:only-of-type {\n",
              "        vertical-align: middle;\n",
              "    }\n",
              "\n",
              "    .dataframe tbody tr th {\n",
              "        vertical-align: top;\n",
              "    }\n",
              "\n",
              "    .dataframe thead th {\n",
              "        text-align: right;\n",
              "    }\n",
              "</style>\n",
              "<table border=\"1\" class=\"dataframe\">\n",
              "  <thead>\n",
              "    <tr style=\"text-align: right;\">\n",
              "      <th></th>\n",
              "      <th>x_Accelaration</th>\n",
              "      <th>y_Accelaration</th>\n",
              "      <th>z_Accelaration</th>\n",
              "    </tr>\n",
              "  </thead>\n",
              "  <tbody>\n",
              "    <tr>\n",
              "      <th>0</th>\n",
              "      <td>0.344050</td>\n",
              "      <td>0.540679</td>\n",
              "      <td>0.525647</td>\n",
              "    </tr>\n",
              "    <tr>\n",
              "      <th>1</th>\n",
              "      <td>0.390581</td>\n",
              "      <td>0.505742</td>\n",
              "      <td>0.499756</td>\n",
              "    </tr>\n",
              "    <tr>\n",
              "      <th>2</th>\n",
              "      <td>0.374788</td>\n",
              "      <td>0.477645</td>\n",
              "      <td>0.465315</td>\n",
              "    </tr>\n",
              "    <tr>\n",
              "      <th>3</th>\n",
              "      <td>0.371968</td>\n",
              "      <td>0.473247</td>\n",
              "      <td>0.446996</td>\n",
              "    </tr>\n",
              "    <tr>\n",
              "      <th>4</th>\n",
              "      <td>0.383813</td>\n",
              "      <td>0.479599</td>\n",
              "      <td>0.458720</td>\n",
              "    </tr>\n",
              "  </tbody>\n",
              "</table>\n",
              "</div>\n",
              "      <button class=\"colab-df-convert\" onclick=\"convertToInteractive('df-73c6f861-f917-452d-96be-a5bec6b30b89')\"\n",
              "              title=\"Convert this dataframe to an interactive table.\"\n",
              "              style=\"display:none;\">\n",
              "        \n",
              "  <svg xmlns=\"http://www.w3.org/2000/svg\" height=\"24px\"viewBox=\"0 0 24 24\"\n",
              "       width=\"24px\">\n",
              "    <path d=\"M0 0h24v24H0V0z\" fill=\"none\"/>\n",
              "    <path d=\"M18.56 5.44l.94 2.06.94-2.06 2.06-.94-2.06-.94-.94-2.06-.94 2.06-2.06.94zm-11 1L8.5 8.5l.94-2.06 2.06-.94-2.06-.94L8.5 2.5l-.94 2.06-2.06.94zm10 10l.94 2.06.94-2.06 2.06-.94-2.06-.94-.94-2.06-.94 2.06-2.06.94z\"/><path d=\"M17.41 7.96l-1.37-1.37c-.4-.4-.92-.59-1.43-.59-.52 0-1.04.2-1.43.59L10.3 9.45l-7.72 7.72c-.78.78-.78 2.05 0 2.83L4 21.41c.39.39.9.59 1.41.59.51 0 1.02-.2 1.41-.59l7.78-7.78 2.81-2.81c.8-.78.8-2.07 0-2.86zM5.41 20L4 18.59l7.72-7.72 1.47 1.35L5.41 20z\"/>\n",
              "  </svg>\n",
              "      </button>\n",
              "      \n",
              "  <style>\n",
              "    .colab-df-container {\n",
              "      display:flex;\n",
              "      flex-wrap:wrap;\n",
              "      gap: 12px;\n",
              "    }\n",
              "\n",
              "    .colab-df-convert {\n",
              "      background-color: #E8F0FE;\n",
              "      border: none;\n",
              "      border-radius: 50%;\n",
              "      cursor: pointer;\n",
              "      display: none;\n",
              "      fill: #1967D2;\n",
              "      height: 32px;\n",
              "      padding: 0 0 0 0;\n",
              "      width: 32px;\n",
              "    }\n",
              "\n",
              "    .colab-df-convert:hover {\n",
              "      background-color: #E2EBFA;\n",
              "      box-shadow: 0px 1px 2px rgba(60, 64, 67, 0.3), 0px 1px 3px 1px rgba(60, 64, 67, 0.15);\n",
              "      fill: #174EA6;\n",
              "    }\n",
              "\n",
              "    [theme=dark] .colab-df-convert {\n",
              "      background-color: #3B4455;\n",
              "      fill: #D2E3FC;\n",
              "    }\n",
              "\n",
              "    [theme=dark] .colab-df-convert:hover {\n",
              "      background-color: #434B5C;\n",
              "      box-shadow: 0px 1px 3px 1px rgba(0, 0, 0, 0.15);\n",
              "      filter: drop-shadow(0px 1px 2px rgba(0, 0, 0, 0.3));\n",
              "      fill: #FFFFFF;\n",
              "    }\n",
              "  </style>\n",
              "\n",
              "      <script>\n",
              "        const buttonEl =\n",
              "          document.querySelector('#df-73c6f861-f917-452d-96be-a5bec6b30b89 button.colab-df-convert');\n",
              "        buttonEl.style.display =\n",
              "          google.colab.kernel.accessAllowed ? 'block' : 'none';\n",
              "\n",
              "        async function convertToInteractive(key) {\n",
              "          const element = document.querySelector('#df-73c6f861-f917-452d-96be-a5bec6b30b89');\n",
              "          const dataTable =\n",
              "            await google.colab.kernel.invokeFunction('convertToInteractive',\n",
              "                                                     [key], {});\n",
              "          if (!dataTable) return;\n",
              "\n",
              "          const docLinkHtml = 'Like what you see? Visit the ' +\n",
              "            '<a target=\"_blank\" href=https://colab.research.google.com/notebooks/data_table.ipynb>data table notebook</a>'\n",
              "            + ' to learn more about interactive tables.';\n",
              "          element.innerHTML = '';\n",
              "          dataTable['output_type'] = 'display_data';\n",
              "          await google.colab.output.renderOutput(dataTable, element);\n",
              "          const docLink = document.createElement('div');\n",
              "          docLink.innerHTML = docLinkHtml;\n",
              "          element.appendChild(docLink);\n",
              "        }\n",
              "      </script>\n",
              "    </div>\n",
              "  </div>\n",
              "  "
            ]
          },
          "metadata": {},
          "execution_count": 21
        }
      ],
      "source": [
        "x.head()"
      ]
    },
    {
      "cell_type": "code",
      "execution_count": 22,
      "metadata": {
        "colab": {
          "base_uri": "https://localhost:8080/"
        },
        "id": "vPURlG00WRDF",
        "outputId": "13f21a49-0f74-4dd1-d921-0be763437e94"
      },
      "outputs": [
        {
          "output_type": "execute_result",
          "data": {
            "text/plain": [
              "0    1\n",
              "1    1\n",
              "2    1\n",
              "3    1\n",
              "4    1\n",
              "Name: Label, dtype: int64"
            ]
          },
          "metadata": {},
          "execution_count": 22
        }
      ],
      "source": [
        "y.head()"
      ]
    },
    {
      "cell_type": "markdown",
      "metadata": {
        "id": "fGMnN9boWRDF"
      },
      "source": [
        "## Implement SMOTE for IMBALANCED DATASET"
      ]
    },
    {
      "cell_type": "code",
      "execution_count": null,
      "metadata": {
        "scrolled": true,
        "id": "rW8DNkgSWRDF"
      },
      "outputs": [],
      "source": [
        "# !pip install imblearn"
      ]
    },
    {
      "cell_type": "code",
      "execution_count": 22,
      "metadata": {
        "id": "Si75R9MeWRDG"
      },
      "outputs": [],
      "source": [
        "from imblearn.over_sampling import SMOTE"
      ]
    },
    {
      "cell_type": "code",
      "execution_count": 23,
      "metadata": {
        "id": "-8xYc7Z9WRDG"
      },
      "outputs": [],
      "source": [
        "oversample = SMOTE()\n",
        "\n",
        "x, y = oversample.fit_resample(x, y)"
      ]
    },
    {
      "cell_type": "code",
      "execution_count": 24,
      "metadata": {
        "colab": {
          "base_uri": "https://localhost:8080/"
        },
        "id": "o0iOnkuvWRDG",
        "outputId": "2c01f4e0-d046-4a31-a52f-a1bf2f86597d"
      },
      "outputs": [
        {
          "output_type": "execute_result",
          "data": {
            "text/plain": [
              "((4869336, 3), (4869336,))"
            ]
          },
          "metadata": {},
          "execution_count": 24
        }
      ],
      "source": [
        "x.shape, y.shape"
      ]
    },
    {
      "cell_type": "code",
      "execution_count": 25,
      "metadata": {
        "colab": {
          "base_uri": "https://localhost:8080/"
        },
        "id": "qzpwVJWoWRDG",
        "outputId": "b21ed79b-a637-4783-f2bc-050065800597"
      },
      "outputs": [
        {
          "output_type": "execute_result",
          "data": {
            "text/plain": [
              "1    608667\n",
              "2    608667\n",
              "3    608667\n",
              "4    608667\n",
              "5    608667\n",
              "6    608667\n",
              "7    608667\n",
              "0    608667\n",
              "Name: Label, dtype: int64"
            ]
          },
          "metadata": {},
          "execution_count": 25
        }
      ],
      "source": [
        "y.value_counts()"
      ]
    },
    {
      "cell_type": "markdown",
      "metadata": {
        "id": "tkwQBgVrWRDH"
      },
      "source": [
        "## Train - Test - Split"
      ]
    },
    {
      "cell_type": "code",
      "execution_count": 26,
      "metadata": {
        "id": "xjNk1wUrWRDH"
      },
      "outputs": [],
      "source": [
        "x_train, x_test, y_train, y_test = train_test_split(x, y, test_size=0.3, random_state=18)"
      ]
    },
    {
      "cell_type": "code",
      "execution_count": null,
      "metadata": {
        "id": "R5_1ljohWRDH"
      },
      "outputs": [],
      "source": [
        ""
      ]
    },
    {
      "cell_type": "markdown",
      "metadata": {
        "id": "iAZU-xdFWRDH"
      },
      "source": [
        "## Creating a function to run multiple models"
      ]
    },
    {
      "cell_type": "code",
      "execution_count": null,
      "metadata": {
        "id": "eeOtsj37WRDH"
      },
      "outputs": [],
      "source": [
        "# def run_model(model):\n",
        "#   model.fit(x_train, y_train)\n",
        "#   preds = model.predict(x_test)\n",
        "#   print(confusion_matrix(y_test, preds))\n",
        "#  print(\"\\n\")\n",
        "#  print(\"---\"*10)\n",
        "#  print(\"\\n\")\n",
        "#  print(\"Accuracy Score is: \", accuracy_score(y_test,preds))"
      ]
    },
    {
      "cell_type": "code",
      "execution_count": 27,
      "metadata": {
        "colab": {
          "base_uri": "https://localhost:8080/"
        },
        "id": "xEwEeQV2WRDI",
        "outputId": "5926e933-c7dc-4567-d429-e5f8e63b951e"
      },
      "outputs": [
        {
          "output_type": "stream",
          "name": "stdout",
          "text": [
            "KNN Accuracy is:  0.7747804115687216\n",
            "KNN Confusion Matrix is : [[180459    751    164    402    305    240    271    360]\n",
            " [  3446 142837  14825   4526   5140   4479   2402   4617]\n",
            " [  1052   8064 159835   3157   4437   2554   1653   2366]\n",
            " [  2125   3899   6854 125450  14321  12128   8320   9272]\n",
            " [  3096   6298  11811  19885 110206  16236   8976   6371]\n",
            " [  1204   2485   2906   9983   8079 150442   5026   2675]\n",
            " [  1152   1729   2402   6268   5466   7200 153540   4447]\n",
            " [  2952   5715   8659  19389  11469   9623  15369 109031]]\n"
          ]
        }
      ],
      "source": [
        "knn = KNeighborsClassifier()\n",
        "\n",
        "knn.fit(x_train,y_train)\n",
        "y_pred_knn = knn.predict(x_test)\n",
        "\n",
        "knn_accuracy = accuracy_score(y_test,y_pred_knn)\n",
        "knn_cm = confusion_matrix(y_test,y_pred_knn)\n",
        "\n",
        "print(\"KNN Accuracy is: \", knn_accuracy)\n",
        "print(\"KNN Confusion Matrix is :\", knn_cm)"
      ]
    },
    {
      "cell_type": "code",
      "execution_count": 28,
      "metadata": {
        "colab": {
          "base_uri": "https://localhost:8080/"
        },
        "id": "ax7kDRIkWRDI",
        "outputId": "bcf4f91c-8da7-4aba-f053-0f26dfc2beab"
      },
      "outputs": [
        {
          "output_type": "stream",
          "name": "stdout",
          "text": [
            "LR Accuracy is:  0.2617502315510463\n",
            "LR Confusion Matrix is : [[147957    262   4981     96   5763   1349  22534     10]\n",
            " [ 37312    865  43366    140  34013  49298  17135    143]\n",
            " [ 27711   4892  54939    697  39766  28961  25744    408]\n",
            " [ 24533   1990  43935    184  29702  27374  53655    996]\n",
            " [ 35074   9422  38771    819  27850  38885  30849   1209]\n",
            " [ 33631   2775  27557    320  17884  59602  39768   1263]\n",
            " [ 16284   3527  34654    297  14110  22961  90021    350]\n",
            " [ 33568   6001  43718    776  25782  23175  48240    947]]\n"
          ]
        }
      ],
      "source": [
        "LR = linear_model.LogisticRegression(random_state=18,multi_class='multinomial')\n",
        "\n",
        "LR.fit(x_train,y_train)\n",
        "y_pred_LR = LR.predict(x_test)\n",
        "\n",
        "LR_accuracy = accuracy_score(y_test,y_pred_LR)\n",
        "LR_cm = confusion_matrix(y_test,y_pred_LR)\n",
        "\n",
        "print(\"LR Accuracy is: \", LR_accuracy)\n",
        "print(\"LR Confusion Matrix is :\", LR_cm)"
      ]
    },
    {
      "cell_type": "code",
      "execution_count": 29,
      "metadata": {
        "colab": {
          "base_uri": "https://localhost:8080/"
        },
        "id": "D3YUtGzZWRDJ",
        "outputId": "07ba270e-19ad-414e-97b2-64f618a107dd"
      },
      "outputs": [
        {
          "output_type": "stream",
          "name": "stdout",
          "text": [
            "MNB Accuracy is:  0.1573191694145883\n",
            "MNB Confusion Matrix is : [[     0  11699      0      0      0      0 116182  55071]\n",
            " [     5  43546      0      0      6     11  59842  78862]\n",
            " [     0  40815      0      0      0      0  67253  75050]\n",
            " [     0  36911      0      0      0      0  84007  61451]\n",
            " [     0  48165      0      0      0      0  62075  72639]\n",
            " [     3  34571      0      0      0      0  70424  77802]\n",
            " [     0  17228      0      0      0      0 101729  63247]\n",
            " [     0  24416      0      0      0      2  73252  84537]]\n"
          ]
        }
      ],
      "source": [
        "MNB = MultinomialNB()\n",
        "\n",
        "MNB.fit(x_train,y_train)\n",
        "y_pred_MNB = MNB.predict(x_test)\n",
        "\n",
        "MNB_accuracy = accuracy_score(y_test,y_pred_MNB)\n",
        "MNB_cm = confusion_matrix(y_test,y_pred_MNB)\n",
        "\n",
        "print(\"MNB Accuracy is: \", MNB_accuracy)\n",
        "print(\"MNB Confusion Matrix is :\", MNB_cm)"
      ]
    },
    {
      "cell_type": "code",
      "execution_count": 23,
      "metadata": {
        "colab": {
          "base_uri": "https://localhost:8080/"
        },
        "id": "HW6LtwUAWRDJ",
        "outputId": "046dcfdf-6c38-4d17-ddaf-ff1213c17115"
      },
      "outputs": [
        {
          "output_type": "stream",
          "name": "stdout",
          "text": [
            "DTC Accuracy is:  0.765585456198346\n",
            "DTC Confusion Matrix is : [[177718    772    517    836   1112    635    627    735]\n",
            " [  1036 149674   7544   4282   7413   2424   1539   8360]\n",
            " [   777   8082 150684   5216   8013   3420   2716   4210]\n",
            " [  1102   5022   5319 119646  17046  11489   7614  15131]\n",
            " [  1577   7733   8662  18929 111301  13709   7885  13083]\n",
            " [   953   2804   3417  11409  12457 139779   6885   5096]\n",
            " [   839   1630   2721   7974   7598   7461 146050   7931]\n",
            " [   779   9370   4205  16524  14259   5312   8242 123516]]\n"
          ]
        }
      ],
      "source": [
        "DTC = DecisionTreeClassifier()\n",
        "\n",
        "DTC.fit(x_train,y_train)\n",
        "y_pred_DTC = DTC.predict(x_test)\n",
        "\n",
        "DTC_accuracy = accuracy_score(y_test,y_pred_DTC)\n",
        "DTC_cm = confusion_matrix(y_test,y_pred_DTC)\n",
        "\n",
        "print(\"DTC Accuracy is: \", DTC_accuracy)\n",
        "print(\"DTC Confusion Matrix is :\", DTC_cm)"
      ]
    },
    {
      "cell_type": "code",
      "execution_count": 24,
      "metadata": {
        "colab": {
          "base_uri": "https://localhost:8080/"
        },
        "id": "PHJR821MWRDK",
        "outputId": "6a10f51a-64b8-48ad-acdf-436b5a8d5914"
      },
      "outputs": [
        {
          "output_type": "stream",
          "name": "stdout",
          "text": [
            "ABC Accuracy is:  0.36287488850295146\n",
            "ABC Confusion Matrix is : [[142993   2779   6427   6070  12684   6037   3881   2081]\n",
            " [ 27218  83859  49203   2206   8324   2260   3494   5708]\n",
            " [  6469  44919  67969  14206  17965   7310   9636  14644]\n",
            " [ 13917  20808  27326  37292  24666  10694  29192  18474]\n",
            " [ 16283  25831  22946  12297  57343  23330  13047  11802]\n",
            " [ 18422  24155  10445   7164  43398  27451  36015  15750]\n",
            " [ 25998   9653  11787  12139  34222   8437  62813  17155]\n",
            " [ 32623  16140  32777  15657  12592   4819  17231  50368]]\n"
          ]
        }
      ],
      "source": [
        "ABC = AdaBoostClassifier()\n",
        "\n",
        "ABC.fit(x_train,y_train)\n",
        "y_pred_ABC = ABC.predict(x_test)\n",
        "\n",
        "ABC_accuracy = accuracy_score(y_test,y_pred_ABC)\n",
        "ABC_cm = confusion_matrix(y_test,y_pred_ABC)\n",
        "\n",
        "print(\"ABC Accuracy is: \", ABC_accuracy)\n",
        "print(\"ABC Confusion Matrix is :\", ABC_cm)"
      ]
    },
    {
      "cell_type": "code",
      "execution_count": 28,
      "metadata": {
        "colab": {
          "base_uri": "https://localhost:8080/"
        },
        "id": "TcRWrsxSWRDK",
        "outputId": "7fa291fa-5ded-4d69-e032-b2c0285a9449"
      },
      "outputs": [
        {
          "output_type": "stream",
          "name": "stdout",
          "text": [
            "GBC Accuracy is:  0.38713007452760506\n",
            "GBC Confusion Matrix is : [[129789   1391   1152   7313   3773  17093  20248   2193]\n",
            " [ 27705 113331  17987   1321   1750   3266   7415   9497]\n",
            " [ 11629  46551  54300   5058  11693   8722  20485  24680]\n",
            " [ 10780  23275  22160  25602  10795  10830  42620  36307]\n",
            " [  9896  18946  19186  10869  44301  27909  32927  18845]\n",
            " [ 14001  25469  12358   8505  24386  37169  40382  20530]\n",
            " [  9427  13305   9913  10318  12923  10856  92238  23224]\n",
            " [ 27997  19036  15134  11713   3729   5655  30153  68790]]\n"
          ]
        }
      ],
      "source": [
        "GBC = GradientBoostingClassifier(n_estimators=50, learning_rate=1.0,max_depth=1)\n",
        "\n",
        "GBC.fit(x_train,y_train)\n",
        "y_pred_GBC = GBC.predict(x_test)\n",
        "\n",
        "GBC_accuracy = accuracy_score(y_test,y_pred_GBC)\n",
        "GBC_cm = confusion_matrix(y_test,y_pred_GBC)\n",
        "\n",
        "print(\"GBC Accuracy is: \", GBC_accuracy)\n",
        "print(\"GBC Confusion Matrix is :\", GBC_cm)"
      ]
    },
    {
      "cell_type": "code",
      "execution_count": null,
      "metadata": {
        "id": "4JcxZuWRWRDK"
      },
      "outputs": [],
      "source": [
        ""
      ]
    },
    {
      "cell_type": "code",
      "execution_count": 32,
      "metadata": {
        "id": "oFRf-MfXWRDK"
      },
      "outputs": [],
      "source": [
        "Model_Accuracies = { \n",
        "    'Models' : ['KNN','LogisticRegression',' MultinomialNB','Decision Tree Classifier',  'AdaBoost', 'Gradient Boosting Classifier'],\n",
        "    'Accuracy' : [0.7747804115687216,0.2617502315510463,0.1573191694145883,0.765585456198346,0.36287488850295146,0.38713007452760506]\n",
        "}"
      ]
    },
    {
      "cell_type": "code",
      "execution_count": 33,
      "metadata": {
        "id": "WM3aiLMSWRDL"
      },
      "outputs": [],
      "source": [
        "Model_Accuracy_Output = pd.DataFrame(data = Model_Accuracies)\n",
        "Model_Accuracy_Output.set_index(\"Models\", inplace = True)"
      ]
    },
    {
      "cell_type": "code",
      "execution_count": 34,
      "metadata": {
        "colab": {
          "base_uri": "https://localhost:8080/",
          "height": 530
        },
        "id": "dnutOGRhWRDL",
        "outputId": "e2f7f15d-a5b0-4eaf-aab6-549c8c8b0ed3"
      },
      "outputs": [
        {
          "output_type": "execute_result",
          "data": {
            "text/plain": [
              "Text(0.5, 0, 'Accuracies')"
            ]
          },
          "metadata": {},
          "execution_count": 34
        },
        {
          "output_type": "display_data",
          "data": {
            "text/plain": [
              "<Figure size 720x576 with 1 Axes>"
            ],
            "image/png": "[encoded data removed]"
          },
          "metadata": {
            "needs_background": "light"
          }
        }
      ],
      "source": [
        "Model_Accuracy_Output.plot.barh(figsize = (10,8))\n",
        "plt.title(\"Models and Accuracies\")\n",
        "plt.xlabel(\"Accuracies\")"
      ]
    },
    {
      "cell_type": "markdown",
      "source": [
        "###                Comparison between multiple classification techniques, we can finally choose the KNN(\"77.48%\" of accuracy) model, which is providing the better result than other models."
      ],
      "metadata": {
        "id": "vouXhPLjIDFP"
      }
    },
    {
      "cell_type": "code",
      "execution_count": null,
      "metadata": {
        "id": "7nTKHvpKWRDL"
      },
      "outputs": [],
      "source": [
        ""
      ]
    }
  ],
  "metadata": {
    "kernelspec": {
      "display_name": "Python 3 (ipykernel)",
      "language": "python",
      "name": "python3"
    },
    "language_info": {
      "codemirror_mode": {
        "name": "ipython",
        "version": 3
      },
      "file_extension": ".py",
      "mimetype": "text/x-python",
      "name": "python",
      "nbconvert_exporter": "python",
      "pygments_lexer": "ipython3",
      "version": "3.9.7"
    },
    "colab": {
      "name": "Kovai_MultiClass_Assignment_1.ipynb",
      "provenance": [],
      "collapsed_sections": []
    },
    "accelerator": "GPU",
    "gpuClass": "standard"
  },
  "nbformat": 4,
  "nbformat_minor": 0
}